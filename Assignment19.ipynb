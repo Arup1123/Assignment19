{
 "cells": [
  {
   "cell_type": "markdown",
   "id": "d5ae6e2c",
   "metadata": {},
   "source": [
    "Assignment 19"
   ]
  },
  {
   "cell_type": "markdown",
   "id": "f22a9c25",
   "metadata": {},
   "source": [
    "    Consider the following code to answer further questions:\n",
    "    import pandas as pd\n",
    "    course_name=['Data Science','Machine Learning','Big Data','Data Engineer']\n",
    "    duration=[2,3,4,6]\n",
    "    df=pd.DataFrame(data={'course_name':course_name,'duration':duration})"
   ]
  },
  {
   "cell_type": "markdown",
   "id": "9afa0ae3",
   "metadata": {},
   "source": [
    "Q1. Write a code to print the data present in the second row of the dataframe, df."
   ]
  },
  {
   "cell_type": "code",
   "execution_count": 19,
   "id": "c2a9a9e6",
   "metadata": {},
   "outputs": [
    {
     "name": "stdout",
     "output_type": "stream",
     "text": [
      "        course_name  duration\n",
      "1  Machine Learning         3\n"
     ]
    }
   ],
   "source": [
    "#Ans:\n",
    "import pandas as pd\n",
    "course_name=['Data Science','Machine Learning','Big Data','Data Engineer']\n",
    "duration=[2,3,4,6]\n",
    "df=pd.DataFrame(data={'course_name':course_name,'duration':duration})\n",
    "print(df[['course_name','duration']][1:2])"
   ]
  },
  {
   "cell_type": "markdown",
   "id": "3664d89f",
   "metadata": {},
   "source": [
    "Q2. What is the difference between the function loc and iloc in pandas.DataFrame?"
   ]
  },
  {
   "cell_type": "markdown",
   "id": "a1847805",
   "metadata": {},
   "source": [
    "Ans: 1. The loc() function is label based data selecting method which means that we have to pass the name of the row or column\n",
    "        which we want to select. On the otherhand, the iloc() function is an indexed-based selecting method which means that we\n",
    "        have to pass an integer index in the method to select a specific row/column.\n",
    "     2. The loc() method includes the last element of the range passes in it. On the otherhand, the iloc() method does not               include the last element of the range passed in it.\n",
    "     3. The loc() method accept the boolean data. On the otherhand, the iloc() method does not accept boolean data."
   ]
  },
  {
   "cell_type": "markdown",
   "id": "692a6b94",
   "metadata": {},
   "source": [
    "Q3. Reindex the given dataframe using a variable, reindex=[3,0,1,2] and store it in the variable, new_df then find the output\n",
    "    for both new_df.loc[2] and new_df.iloc[2].\n",
    "    Did you observe any difference in both the outputs? If so then explain it."
   ]
  },
  {
   "cell_type": "code",
   "execution_count": 55,
   "id": "0f15fd75",
   "metadata": {},
   "outputs": [
    {
     "name": "stdout",
     "output_type": "stream",
     "text": [
      "course_name    Big Data\n",
      "duration              4\n",
      "Name: 2, dtype: object\n",
      "\n",
      "course_name    Machine Learning\n",
      "duration                      3\n",
      "Name: 1, dtype: object\n"
     ]
    },
    {
     "data": {
      "text/html": [
       "<div>\n",
       "<style scoped>\n",
       "    .dataframe tbody tr th:only-of-type {\n",
       "        vertical-align: middle;\n",
       "    }\n",
       "\n",
       "    .dataframe tbody tr th {\n",
       "        vertical-align: top;\n",
       "    }\n",
       "\n",
       "    .dataframe thead th {\n",
       "        text-align: right;\n",
       "    }\n",
       "</style>\n",
       "<table border=\"1\" class=\"dataframe\">\n",
       "  <thead>\n",
       "    <tr style=\"text-align: right;\">\n",
       "      <th></th>\n",
       "      <th>course_name</th>\n",
       "      <th>duration</th>\n",
       "    </tr>\n",
       "  </thead>\n",
       "  <tbody>\n",
       "    <tr>\n",
       "      <th>0</th>\n",
       "      <td>Data Science</td>\n",
       "      <td>2</td>\n",
       "    </tr>\n",
       "    <tr>\n",
       "      <th>1</th>\n",
       "      <td>Machine Learning</td>\n",
       "      <td>3</td>\n",
       "    </tr>\n",
       "    <tr>\n",
       "      <th>2</th>\n",
       "      <td>Big Data</td>\n",
       "      <td>4</td>\n",
       "    </tr>\n",
       "    <tr>\n",
       "      <th>3</th>\n",
       "      <td>Data Engineer</td>\n",
       "      <td>6</td>\n",
       "    </tr>\n",
       "  </tbody>\n",
       "</table>\n",
       "</div>"
      ],
      "text/plain": [
       "        course_name  duration\n",
       "0      Data Science         2\n",
       "1  Machine Learning         3\n",
       "2          Big Data         4\n",
       "3     Data Engineer         6"
      ]
     },
     "execution_count": 55,
     "metadata": {},
     "output_type": "execute_result"
    }
   ],
   "source": [
    "#Ans:\n",
    "import pandas as pd\n",
    "course_name=['Data Science','Machine Learning','Big Data','Data Engineer']\n",
    "duration=[2,3,4,6]\n",
    "df=pd.DataFrame(data={'course_name':course_name,'duration':duration})\n",
    "reindex=[3,0,1,2]\n",
    "new_df=df.reindex(reindex)\n",
    "print( new_df.loc[2])\n",
    "print()\n",
    "print(new_df.iloc[2])\n",
    "df"
   ]
  },
  {
   "cell_type": "markdown",
   "id": "b518160e",
   "metadata": {},
   "source": [
    "Yes. new_df.loc[2] print the 3rd row of new_df, but new_df.iloc[2] print the 2nd row. Because, loc() function including the last\n",
    "element, but iloc() function does not include the last element."
   ]
  },
  {
   "cell_type": "markdown",
   "id": "a4d41345",
   "metadata": {},
   "source": [
    "Consider the following \n",
    "import pandas as pd\n",
    "import numpy as np\n",
    "columns=['column_1','column_2','column_3','column_4','column_5','column_6']\n",
    "indices=[1,2,3,4,5,6]\n",
    "creating a dataframe:\n",
    "df1=pd.DataFrame(np.random.rand(6,6),columns=columns,index=indices)"
   ]
  },
  {
   "cell_type": "markdown",
   "id": "5aa8fdd0",
   "metadata": {},
   "source": [
    "Q4. Write a code to find the following statistically measurements for the above dataframe df1:\n",
    "    (i) mean of each and every column present in the dataframe.\n",
    "    (ii) standerd deviation of column, 'column_2'"
   ]
  },
  {
   "cell_type": "code",
   "execution_count": 2,
   "id": "fa714b22",
   "metadata": {},
   "outputs": [
    {
     "name": "stdout",
     "output_type": "stream",
     "text": [
      "Mean of column_1 is:  0.6095592756501406\n",
      "Mean of column_2 is:  0.6471948885596656\n",
      "Mean of column_3 is:  0.5969164846143572\n",
      "Mean of column_4 is:  0.6615465502860135\n",
      "Mean of column_5 is:  0.6885055972037569\n",
      "Mean of column_6 is:  0.5749598684893025\n",
      "Standerd Deviation of column_2 is:  0.2633542016402792\n"
     ]
    }
   ],
   "source": [
    "#Ans:\n",
    "import pandas as pd\n",
    "import numpy as np\n",
    "columns=['column_1','column_2','column_3','column_4','column_5','column_6']\n",
    "indices=[1,2,3,4,5,6]\n",
    "df1=pd.DataFrame(np.random.rand(6,6),columns=columns,index=indices)\n",
    "#(i)Ans:\n",
    "print(\"Mean of column_1 is: \",df1.column_1.mean())\n",
    "print(\"Mean of column_2 is: \",df1.column_2.mean())\n",
    "print(\"Mean of column_3 is: \",df1.column_3.mean())\n",
    "print(\"Mean of column_4 is: \",df1.column_4.mean())\n",
    "print(\"Mean of column_5 is: \",df1.column_5.mean())\n",
    "print(\"Mean of column_6 is: \",df1.column_6.mean())\n",
    "#(ii)Ans:\n",
    "print(\"Standerd Deviation of column_2 is: \",df1.column_2.std())"
   ]
  },
  {
   "cell_type": "markdown",
   "id": "fd592bdd",
   "metadata": {},
   "source": [
    "Q5. Replace the data present in the second row of column, 'column_2' by a string variable then find the mean of column, coumn_2.\n",
    "    If you are getting errors in executing it then explain why."
   ]
  },
  {
   "cell_type": "code",
   "execution_count": 3,
   "id": "4b1e9e05",
   "metadata": {},
   "outputs": [
    {
     "name": "stdout",
     "output_type": "stream",
     "text": [
      "   column_1  column_2  column_3  column_4  column_5  column_6\n",
      "1  0.042366  0.176206  0.892651  0.751245  0.744518  0.177494\n",
      "2  0.902464      none  0.981091  0.523709  0.845622  0.754780\n",
      "3  0.859362  0.690898  0.803773  0.842088  0.449700  0.970822\n",
      "4  0.876668  0.885757  0.336232  0.267202  0.835003  0.597584\n",
      "5  0.246833  0.900239  0.050600  0.837591  0.846303  0.487628\n",
      "6  0.729663  0.618547  0.517151  0.747445  0.409887  0.461451\n"
     ]
    },
    {
     "ename": "TypeError",
     "evalue": "unsupported operand type(s) for +: 'float' and 'str'",
     "output_type": "error",
     "traceback": [
      "\u001b[1;31m---------------------------------------------------------------------------\u001b[0m",
      "\u001b[1;31mTypeError\u001b[0m                                 Traceback (most recent call last)",
      "Cell \u001b[1;32mIn[3], line 5\u001b[0m\n\u001b[0;32m      3\u001b[0m df1\u001b[38;5;241m.\u001b[39mloc[\u001b[38;5;241m2\u001b[39m,\u001b[38;5;124m'\u001b[39m\u001b[38;5;124mcolumn_2\u001b[39m\u001b[38;5;124m'\u001b[39m]\u001b[38;5;241m=\u001b[39m\u001b[38;5;124m'\u001b[39m\u001b[38;5;124mnone\u001b[39m\u001b[38;5;124m'\u001b[39m\n\u001b[0;32m      4\u001b[0m \u001b[38;5;28mprint\u001b[39m(df1)\n\u001b[1;32m----> 5\u001b[0m \u001b[43mdf1\u001b[49m\u001b[38;5;241;43m.\u001b[39;49m\u001b[43mcolumn_2\u001b[49m\u001b[38;5;241;43m.\u001b[39;49m\u001b[43mmean\u001b[49m\u001b[43m(\u001b[49m\u001b[43m)\u001b[49m\n",
      "File \u001b[1;32m~\\anaconda3\\lib\\site-packages\\pandas\\core\\generic.py:11847\u001b[0m, in \u001b[0;36mNDFrame._add_numeric_operations.<locals>.mean\u001b[1;34m(self, axis, skipna, level, numeric_only, **kwargs)\u001b[0m\n\u001b[0;32m  11829\u001b[0m \u001b[38;5;129m@doc\u001b[39m(\n\u001b[0;32m  11830\u001b[0m     _num_doc,\n\u001b[0;32m  11831\u001b[0m     desc\u001b[38;5;241m=\u001b[39m\u001b[38;5;124m\"\u001b[39m\u001b[38;5;124mReturn the mean of the values over the requested axis.\u001b[39m\u001b[38;5;124m\"\u001b[39m,\n\u001b[1;32m   (...)\u001b[0m\n\u001b[0;32m  11845\u001b[0m     \u001b[38;5;241m*\u001b[39m\u001b[38;5;241m*\u001b[39mkwargs,\n\u001b[0;32m  11846\u001b[0m ):\n\u001b[1;32m> 11847\u001b[0m     \u001b[38;5;28;01mreturn\u001b[39;00m NDFrame\u001b[38;5;241m.\u001b[39mmean(\u001b[38;5;28mself\u001b[39m, axis, skipna, level, numeric_only, \u001b[38;5;241m*\u001b[39m\u001b[38;5;241m*\u001b[39mkwargs)\n",
      "File \u001b[1;32m~\\anaconda3\\lib\\site-packages\\pandas\\core\\generic.py:11401\u001b[0m, in \u001b[0;36mNDFrame.mean\u001b[1;34m(self, axis, skipna, level, numeric_only, **kwargs)\u001b[0m\n\u001b[0;32m  11393\u001b[0m \u001b[38;5;28;01mdef\u001b[39;00m \u001b[38;5;21mmean\u001b[39m(\n\u001b[0;32m  11394\u001b[0m     \u001b[38;5;28mself\u001b[39m,\n\u001b[0;32m  11395\u001b[0m     axis: Axis \u001b[38;5;241m|\u001b[39m \u001b[38;5;28;01mNone\u001b[39;00m \u001b[38;5;241m|\u001b[39m lib\u001b[38;5;241m.\u001b[39mNoDefault \u001b[38;5;241m=\u001b[39m lib\u001b[38;5;241m.\u001b[39mno_default,\n\u001b[1;32m   (...)\u001b[0m\n\u001b[0;32m  11399\u001b[0m     \u001b[38;5;241m*\u001b[39m\u001b[38;5;241m*\u001b[39mkwargs,\n\u001b[0;32m  11400\u001b[0m ) \u001b[38;5;241m-\u001b[39m\u001b[38;5;241m>\u001b[39m Series \u001b[38;5;241m|\u001b[39m \u001b[38;5;28mfloat\u001b[39m:\n\u001b[1;32m> 11401\u001b[0m     \u001b[38;5;28;01mreturn\u001b[39;00m \u001b[38;5;28mself\u001b[39m\u001b[38;5;241m.\u001b[39m_stat_function(\n\u001b[0;32m  11402\u001b[0m         \u001b[38;5;124m\"\u001b[39m\u001b[38;5;124mmean\u001b[39m\u001b[38;5;124m\"\u001b[39m, nanops\u001b[38;5;241m.\u001b[39mnanmean, axis, skipna, level, numeric_only, \u001b[38;5;241m*\u001b[39m\u001b[38;5;241m*\u001b[39mkwargs\n\u001b[0;32m  11403\u001b[0m     )\n",
      "File \u001b[1;32m~\\anaconda3\\lib\\site-packages\\pandas\\core\\generic.py:11353\u001b[0m, in \u001b[0;36mNDFrame._stat_function\u001b[1;34m(self, name, func, axis, skipna, level, numeric_only, **kwargs)\u001b[0m\n\u001b[0;32m  11343\u001b[0m     warnings\u001b[38;5;241m.\u001b[39mwarn(\n\u001b[0;32m  11344\u001b[0m         \u001b[38;5;124m\"\u001b[39m\u001b[38;5;124mUsing the level keyword in DataFrame and Series aggregations is \u001b[39m\u001b[38;5;124m\"\u001b[39m\n\u001b[0;32m  11345\u001b[0m         \u001b[38;5;124m\"\u001b[39m\u001b[38;5;124mdeprecated and will be removed in a future version. Use groupby \u001b[39m\u001b[38;5;124m\"\u001b[39m\n\u001b[1;32m   (...)\u001b[0m\n\u001b[0;32m  11348\u001b[0m         stacklevel\u001b[38;5;241m=\u001b[39mfind_stack_level(),\n\u001b[0;32m  11349\u001b[0m     )\n\u001b[0;32m  11350\u001b[0m     \u001b[38;5;28;01mreturn\u001b[39;00m \u001b[38;5;28mself\u001b[39m\u001b[38;5;241m.\u001b[39m_agg_by_level(\n\u001b[0;32m  11351\u001b[0m         name, axis\u001b[38;5;241m=\u001b[39maxis, level\u001b[38;5;241m=\u001b[39mlevel, skipna\u001b[38;5;241m=\u001b[39mskipna, numeric_only\u001b[38;5;241m=\u001b[39mnumeric_only\n\u001b[0;32m  11352\u001b[0m     )\n\u001b[1;32m> 11353\u001b[0m \u001b[38;5;28;01mreturn\u001b[39;00m \u001b[38;5;28;43mself\u001b[39;49m\u001b[38;5;241;43m.\u001b[39;49m\u001b[43m_reduce\u001b[49m\u001b[43m(\u001b[49m\n\u001b[0;32m  11354\u001b[0m \u001b[43m    \u001b[49m\u001b[43mfunc\u001b[49m\u001b[43m,\u001b[49m\u001b[43m \u001b[49m\u001b[43mname\u001b[49m\u001b[38;5;241;43m=\u001b[39;49m\u001b[43mname\u001b[49m\u001b[43m,\u001b[49m\u001b[43m \u001b[49m\u001b[43maxis\u001b[49m\u001b[38;5;241;43m=\u001b[39;49m\u001b[43maxis\u001b[49m\u001b[43m,\u001b[49m\u001b[43m \u001b[49m\u001b[43mskipna\u001b[49m\u001b[38;5;241;43m=\u001b[39;49m\u001b[43mskipna\u001b[49m\u001b[43m,\u001b[49m\u001b[43m \u001b[49m\u001b[43mnumeric_only\u001b[49m\u001b[38;5;241;43m=\u001b[39;49m\u001b[43mnumeric_only\u001b[49m\n\u001b[0;32m  11355\u001b[0m \u001b[43m\u001b[49m\u001b[43m)\u001b[49m\n",
      "File \u001b[1;32m~\\anaconda3\\lib\\site-packages\\pandas\\core\\series.py:4816\u001b[0m, in \u001b[0;36mSeries._reduce\u001b[1;34m(self, op, name, axis, skipna, numeric_only, filter_type, **kwds)\u001b[0m\n\u001b[0;32m   4812\u001b[0m     \u001b[38;5;28;01mraise\u001b[39;00m \u001b[38;5;167;01mNotImplementedError\u001b[39;00m(\n\u001b[0;32m   4813\u001b[0m         \u001b[38;5;124mf\u001b[39m\u001b[38;5;124m\"\u001b[39m\u001b[38;5;124mSeries.\u001b[39m\u001b[38;5;132;01m{\u001b[39;00mname\u001b[38;5;132;01m}\u001b[39;00m\u001b[38;5;124m does not implement \u001b[39m\u001b[38;5;132;01m{\u001b[39;00mkwd_name\u001b[38;5;132;01m}\u001b[39;00m\u001b[38;5;124m.\u001b[39m\u001b[38;5;124m\"\u001b[39m\n\u001b[0;32m   4814\u001b[0m     )\n\u001b[0;32m   4815\u001b[0m \u001b[38;5;28;01mwith\u001b[39;00m np\u001b[38;5;241m.\u001b[39merrstate(\u001b[38;5;28mall\u001b[39m\u001b[38;5;241m=\u001b[39m\u001b[38;5;124m\"\u001b[39m\u001b[38;5;124mignore\u001b[39m\u001b[38;5;124m\"\u001b[39m):\n\u001b[1;32m-> 4816\u001b[0m     \u001b[38;5;28;01mreturn\u001b[39;00m op(delegate, skipna\u001b[38;5;241m=\u001b[39mskipna, \u001b[38;5;241m*\u001b[39m\u001b[38;5;241m*\u001b[39mkwds)\n",
      "File \u001b[1;32m~\\anaconda3\\lib\\site-packages\\pandas\\core\\nanops.py:93\u001b[0m, in \u001b[0;36mdisallow.__call__.<locals>._f\u001b[1;34m(*args, **kwargs)\u001b[0m\n\u001b[0;32m     91\u001b[0m \u001b[38;5;28;01mtry\u001b[39;00m:\n\u001b[0;32m     92\u001b[0m     \u001b[38;5;28;01mwith\u001b[39;00m np\u001b[38;5;241m.\u001b[39merrstate(invalid\u001b[38;5;241m=\u001b[39m\u001b[38;5;124m\"\u001b[39m\u001b[38;5;124mignore\u001b[39m\u001b[38;5;124m\"\u001b[39m):\n\u001b[1;32m---> 93\u001b[0m         \u001b[38;5;28;01mreturn\u001b[39;00m f(\u001b[38;5;241m*\u001b[39margs, \u001b[38;5;241m*\u001b[39m\u001b[38;5;241m*\u001b[39mkwargs)\n\u001b[0;32m     94\u001b[0m \u001b[38;5;28;01mexcept\u001b[39;00m \u001b[38;5;167;01mValueError\u001b[39;00m \u001b[38;5;28;01mas\u001b[39;00m e:\n\u001b[0;32m     95\u001b[0m     \u001b[38;5;66;03m# we want to transform an object array\u001b[39;00m\n\u001b[0;32m     96\u001b[0m     \u001b[38;5;66;03m# ValueError message to the more typical TypeError\u001b[39;00m\n\u001b[0;32m     97\u001b[0m     \u001b[38;5;66;03m# e.g. this is normally a disallowed function on\u001b[39;00m\n\u001b[0;32m     98\u001b[0m     \u001b[38;5;66;03m# object arrays that contain strings\u001b[39;00m\n\u001b[0;32m     99\u001b[0m     \u001b[38;5;28;01mif\u001b[39;00m is_object_dtype(args[\u001b[38;5;241m0\u001b[39m]):\n",
      "File \u001b[1;32m~\\anaconda3\\lib\\site-packages\\pandas\\core\\nanops.py:155\u001b[0m, in \u001b[0;36mbottleneck_switch.__call__.<locals>.f\u001b[1;34m(values, axis, skipna, **kwds)\u001b[0m\n\u001b[0;32m    153\u001b[0m         result \u001b[38;5;241m=\u001b[39m alt(values, axis\u001b[38;5;241m=\u001b[39maxis, skipna\u001b[38;5;241m=\u001b[39mskipna, \u001b[38;5;241m*\u001b[39m\u001b[38;5;241m*\u001b[39mkwds)\n\u001b[0;32m    154\u001b[0m \u001b[38;5;28;01melse\u001b[39;00m:\n\u001b[1;32m--> 155\u001b[0m     result \u001b[38;5;241m=\u001b[39m alt(values, axis\u001b[38;5;241m=\u001b[39maxis, skipna\u001b[38;5;241m=\u001b[39mskipna, \u001b[38;5;241m*\u001b[39m\u001b[38;5;241m*\u001b[39mkwds)\n\u001b[0;32m    157\u001b[0m \u001b[38;5;28;01mreturn\u001b[39;00m result\n",
      "File \u001b[1;32m~\\anaconda3\\lib\\site-packages\\pandas\\core\\nanops.py:418\u001b[0m, in \u001b[0;36m_datetimelike_compat.<locals>.new_func\u001b[1;34m(values, axis, skipna, mask, **kwargs)\u001b[0m\n\u001b[0;32m    415\u001b[0m \u001b[38;5;28;01mif\u001b[39;00m datetimelike \u001b[38;5;129;01mand\u001b[39;00m mask \u001b[38;5;129;01mis\u001b[39;00m \u001b[38;5;28;01mNone\u001b[39;00m:\n\u001b[0;32m    416\u001b[0m     mask \u001b[38;5;241m=\u001b[39m isna(values)\n\u001b[1;32m--> 418\u001b[0m result \u001b[38;5;241m=\u001b[39m func(values, axis\u001b[38;5;241m=\u001b[39maxis, skipna\u001b[38;5;241m=\u001b[39mskipna, mask\u001b[38;5;241m=\u001b[39mmask, \u001b[38;5;241m*\u001b[39m\u001b[38;5;241m*\u001b[39mkwargs)\n\u001b[0;32m    420\u001b[0m \u001b[38;5;28;01mif\u001b[39;00m datetimelike:\n\u001b[0;32m    421\u001b[0m     result \u001b[38;5;241m=\u001b[39m _wrap_results(result, orig_values\u001b[38;5;241m.\u001b[39mdtype, fill_value\u001b[38;5;241m=\u001b[39miNaT)\n",
      "File \u001b[1;32m~\\anaconda3\\lib\\site-packages\\pandas\\core\\nanops.py:706\u001b[0m, in \u001b[0;36mnanmean\u001b[1;34m(values, axis, skipna, mask)\u001b[0m\n\u001b[0;32m    703\u001b[0m     dtype_count \u001b[38;5;241m=\u001b[39m dtype\n\u001b[0;32m    705\u001b[0m count \u001b[38;5;241m=\u001b[39m _get_counts(values\u001b[38;5;241m.\u001b[39mshape, mask, axis, dtype\u001b[38;5;241m=\u001b[39mdtype_count)\n\u001b[1;32m--> 706\u001b[0m the_sum \u001b[38;5;241m=\u001b[39m _ensure_numeric(\u001b[43mvalues\u001b[49m\u001b[38;5;241;43m.\u001b[39;49m\u001b[43msum\u001b[49m\u001b[43m(\u001b[49m\u001b[43maxis\u001b[49m\u001b[43m,\u001b[49m\u001b[43m \u001b[49m\u001b[43mdtype\u001b[49m\u001b[38;5;241;43m=\u001b[39;49m\u001b[43mdtype_sum\u001b[49m\u001b[43m)\u001b[49m)\n\u001b[0;32m    708\u001b[0m \u001b[38;5;28;01mif\u001b[39;00m axis \u001b[38;5;129;01mis\u001b[39;00m \u001b[38;5;129;01mnot\u001b[39;00m \u001b[38;5;28;01mNone\u001b[39;00m \u001b[38;5;129;01mand\u001b[39;00m \u001b[38;5;28mgetattr\u001b[39m(the_sum, \u001b[38;5;124m\"\u001b[39m\u001b[38;5;124mndim\u001b[39m\u001b[38;5;124m\"\u001b[39m, \u001b[38;5;28;01mFalse\u001b[39;00m):\n\u001b[0;32m    709\u001b[0m     count \u001b[38;5;241m=\u001b[39m cast(np\u001b[38;5;241m.\u001b[39mndarray, count)\n",
      "File \u001b[1;32m~\\anaconda3\\lib\\site-packages\\numpy\\core\\_methods.py:48\u001b[0m, in \u001b[0;36m_sum\u001b[1;34m(a, axis, dtype, out, keepdims, initial, where)\u001b[0m\n\u001b[0;32m     46\u001b[0m \u001b[38;5;28;01mdef\u001b[39;00m \u001b[38;5;21m_sum\u001b[39m(a, axis\u001b[38;5;241m=\u001b[39m\u001b[38;5;28;01mNone\u001b[39;00m, dtype\u001b[38;5;241m=\u001b[39m\u001b[38;5;28;01mNone\u001b[39;00m, out\u001b[38;5;241m=\u001b[39m\u001b[38;5;28;01mNone\u001b[39;00m, keepdims\u001b[38;5;241m=\u001b[39m\u001b[38;5;28;01mFalse\u001b[39;00m,\n\u001b[0;32m     47\u001b[0m          initial\u001b[38;5;241m=\u001b[39m_NoValue, where\u001b[38;5;241m=\u001b[39m\u001b[38;5;28;01mTrue\u001b[39;00m):\n\u001b[1;32m---> 48\u001b[0m     \u001b[38;5;28;01mreturn\u001b[39;00m \u001b[43mumr_sum\u001b[49m\u001b[43m(\u001b[49m\u001b[43ma\u001b[49m\u001b[43m,\u001b[49m\u001b[43m \u001b[49m\u001b[43maxis\u001b[49m\u001b[43m,\u001b[49m\u001b[43m \u001b[49m\u001b[43mdtype\u001b[49m\u001b[43m,\u001b[49m\u001b[43m \u001b[49m\u001b[43mout\u001b[49m\u001b[43m,\u001b[49m\u001b[43m \u001b[49m\u001b[43mkeepdims\u001b[49m\u001b[43m,\u001b[49m\u001b[43m \u001b[49m\u001b[43minitial\u001b[49m\u001b[43m,\u001b[49m\u001b[43m \u001b[49m\u001b[43mwhere\u001b[49m\u001b[43m)\u001b[49m\n",
      "\u001b[1;31mTypeError\u001b[0m: unsupported operand type(s) for +: 'float' and 'str'"
     ]
    }
   ],
   "source": [
    "#Ans:\n",
    "import pandas as pd\n",
    "df1.loc[2,'column_2']='none'\n",
    "print(df1)\n",
    "df1.column_2.mean()"
   ]
  },
  {
   "cell_type": "markdown",
   "id": "0ef719d3",
   "metadata": {},
   "source": [
    "We get an error, because 2nd row of the column_2 in df1 has a string 'none'. But all elements in column_2 are integers except the element of 2nd row's, so we can not calculate mean as unsupported operand types(for +: 'float' and'str')"
   ]
  },
  {
   "cell_type": "markdown",
   "id": "d2584d95",
   "metadata": {},
   "source": [
    "Q6. What do you understand about the windows function in pandas and list the types of windows functions?"
   ]
  },
  {
   "cell_type": "markdown",
   "id": "dd4ab4d0",
   "metadata": {},
   "source": [
    "Ans: Pandas Window function are functions where the input values are taken from a \"window\" of one or more rows in a series or\n",
    "     a table and calculation is performed over them. The word window means the number of rows between the two boundaries by          which we perform calculations including the boundary rows.\n",
    "     Type of window functions:\n",
    "     1. Aggregate\n",
    "     2. Ranking\n",
    "     3. Value"
   ]
  },
  {
   "cell_type": "markdown",
   "id": "ad4ed65b",
   "metadata": {},
   "source": [
    "Q7. Write a code to print only the current month and year at the time of answering this question."
   ]
  },
  {
   "cell_type": "code",
   "execution_count": 4,
   "id": "5d090478",
   "metadata": {},
   "outputs": [
    {
     "name": "stdout",
     "output_type": "stream",
     "text": [
      "Current month :  7\n",
      "Current year :  2023\n"
     ]
    },
    {
     "name": "stderr",
     "output_type": "stream",
     "text": [
      "C:\\Users\\Arup\\AppData\\Local\\Temp\\ipykernel_2704\\2756921943.py:3: FutureWarning: The pandas.datetime class is deprecated and will be removed from pandas in a future version. Import from datetime module instead.\n",
      "  x=pd.datetime.now()\n"
     ]
    }
   ],
   "source": [
    "#Ans:\n",
    "import pandas as pd\n",
    "x=pd.datetime.now()\n",
    "print(\"Current month : \",x.month)\n",
    "print(\"Current year : \",x.year)"
   ]
  },
  {
   "cell_type": "markdown",
   "id": "95213af5",
   "metadata": {},
   "source": [
    "Q8. Write a python program that takes in two dates as input (in the format YYYY-MM-DD) and calculates the difference between\n",
    "    them in days, hours and minutes using Pandas time delta. The program should be prompt the user to enter the dates and           display the result."
   ]
  },
  {
   "cell_type": "code",
   "execution_count": 1,
   "id": "0ff2cd86",
   "metadata": {},
   "outputs": [
    {
     "name": "stdout",
     "output_type": "stream",
     "text": [
      "Enter the 1st date: 2022-3-4\n",
      "Enter the 2nd date: 2020-5-7\n",
      "The difference is :  666 days 00:00:00\n"
     ]
    },
    {
     "name": "stderr",
     "output_type": "stream",
     "text": [
      "C:\\Users\\Arup\\AppData\\Local\\Temp\\ipykernel_4080\\2318827682.py:6: FutureWarning: The pandas.datetime class is deprecated and will be removed from pandas in a future version. Import from datetime module instead.\n",
      "  date_1=pd.datetime.strptime(date1,format)\n",
      "C:\\Users\\Arup\\AppData\\Local\\Temp\\ipykernel_4080\\2318827682.py:7: FutureWarning: The pandas.datetime class is deprecated and will be removed from pandas in a future version. Import from datetime module instead.\n",
      "  date_2=pd.datetime.strptime(date2,format)\n"
     ]
    }
   ],
   "source": [
    "#Ans:\n",
    "import pandas as pd\n",
    "date1=input(\"Enter the 1st date: \")\n",
    "date2=input(\"Enter the 2nd date: \")\n",
    "format='%Y-%m-%d'\n",
    "date_1=pd.datetime.strptime(date1,format)\n",
    "date_2=pd.datetime.strptime(date2,format)\n",
    "diff=date_1-date_2\n",
    "d=pd.Timedelta(diff)\n",
    "\n",
    "print(\"The difference is : \",d)\n",
    "\n",
    "\n"
   ]
  },
  {
   "cell_type": "markdown",
   "id": "b21e022f",
   "metadata": {},
   "source": [
    "Q9. Write a python program that reads a CSV file containing categorical data and converts a specified column to a categorical       data type. The program should prompt the user to enter the file path, column name, and categorical order, and then display\n",
    "    the sorted data."
   ]
  },
  {
   "cell_type": "code",
   "execution_count": 2,
   "id": "50da7b6a",
   "metadata": {},
   "outputs": [
    {
     "name": "stdout",
     "output_type": "stream",
     "text": [
      "Enter the file path: test.csv\n",
      "Enter the column name: Age\n",
      "Enter the order: True\n",
      "[20, 21, 22, 23, 21, 24, 25, 19, 24, 22]\n",
      "Categories (7, int64): [19 < 20 < 21 < 22 < 23 < 24 < 25]\n"
     ]
    }
   ],
   "source": [
    "#Ans:\n",
    "import pandas as pd\n",
    "csv_file=input(\"Enter the file path: \")\n",
    "column_name=input(\"Enter the column name: \")\n",
    "order=bool(input(\"Enter the order: \"))\n",
    "df=pd.read_csv(csv_file)\n",
    "categorical_column=pd.Categorical(df[column_name],ordered=order)\n",
    "print(categorical_column)\n"
   ]
  },
  {
   "cell_type": "markdown",
   "id": "622d0162",
   "metadata": {},
   "source": [
    "Q10. Write a python program that reads a CSV file containing sales data for different products and visualizes the data using a\n",
    "     stacked bar chart to show the sales of each product category over the time. The program should prompt the user to enter the\n",
    "     file path and display the chart."
   ]
  },
  {
   "cell_type": "code",
   "execution_count": 3,
   "id": "a895fbae",
   "metadata": {},
   "outputs": [
    {
     "name": "stdout",
     "output_type": "stream",
     "text": [
      "Enter the file path of the CSV file containing sales data: sales_data.csv\n"
     ]
    },
    {
     "data": {
      "text/plain": [
       "<Axes: >"
      ]
     },
     "execution_count": 3,
     "metadata": {},
     "output_type": "execute_result"
    },
    {
     "data": {
      "image/png": "[encoded data removed]",
      "text/plain": [
       "<Figure size 640x480 with 1 Axes>"
      ]
     },
     "metadata": {},
     "output_type": "display_data"
    }
   ],
   "source": [
    "#Ans:\n",
    "import pandas as pd\n",
    "sales_file=input(\"Enter the file path of the CSV file containing sales data: \")\n",
    "sales_data=pd.read_csv(sales_file)\n",
    "sales_data.plot.bar()"
   ]
  },
  {
   "cell_type": "markdown",
   "id": "68e82b8c",
   "metadata": {},
   "source": [
    "Q11. You are given a CSV file containing student data that includes the student ID and their test score. Write a python program      that reads the CSV file, calculates the mean, median, mode of the test scores, and displays the results in a table.\n",
    "     The Program should do the following:\n",
    "     1. Prompt the user to enter the file path of the CSV file containig the student data.\n",
    "     2. Read the CSV file into a pandas DataFrame.\n",
    "     3. Calculate the mean, median, and mode of the test scores using pandas table."
   ]
  },
  {
   "cell_type": "code",
   "execution_count": 2,
   "id": "1c0470c8",
   "metadata": {},
   "outputs": [
    {
     "name": "stdout",
     "output_type": "stream",
     "text": [
      "Enter the file path of the CSV file containing the student data: student_data.csv\n",
      "  Statistics  Value\n",
      "0       Mean   83.5\n",
      "1     Median   85.0\n",
      "2       Mode   85.0\n"
     ]
    }
   ],
   "source": [
    "#Ans:\n",
    "import pandas as pd\n",
    "import statistics\n",
    "studentData_file=input(\"Enter the file path of the CSV file containing the student data: \")\n",
    "student_data=pd.read_csv(studentData_file)\n",
    "mean_value=student_data['Test_score'].mean()\n",
    "median_value=student_data['Test_score'].median()\n",
    "mode_value=statistics.mode(student_data['Test_score'])\n",
    "df_student_data=pd.DataFrame()\n",
    "df_student_data['Statistics']=['Mean','Median','Mode']\n",
    "df_student_data['Value']=[mean_value,median_value,mode_value]\n",
    "print(df_student_data)"
   ]
  },
  {
   "cell_type": "code",
   "execution_count": null,
   "id": "2454ca74",
   "metadata": {},
   "outputs": [],
   "source": []
  }
 ],
 "metadata": {
  "kernelspec": {
   "display_name": "Python 3 (ipykernel)",
   "language": "python",
   "name": "python3"
  },
  "language_info": {
   "codemirror_mode": {
    "name": "ipython",
    "version": 3
   },
   "file_extension": ".py",
   "mimetype": "text/x-python",
   "name": "python",
   "nbconvert_exporter": "python",
   "pygments_lexer": "ipython3",
   "version": "3.10.9"
  }
 },
 "nbformat": 4,
 "nbformat_minor": 5
}
